{
 "cells": [
  {
   "cell_type": "markdown",
   "metadata": {
    "colab_type": "text",
    "id": "1MsOiuBgAvBy"
   },
   "source": [
    "# Aplicação de Machine Learning para detecção de Fraude\n",
    "\n",
    "\n",
    "Esse script tem por objetivo, a partir de uma base já tratada, avaliar o resultado de diferentes algoritmos de machine learning aplicados em uma base de operações de cartão de crédito.\n",
    "\n",
    "\n",
    "-------------------------------------------------------------------------------\n",
    "\n",
    "### Base de dados: Operações de Cartão de Crédito\n",
    "\n",
    "kaggle.com/mlg-ulb/creditcardfraud\n",
    "\n",
    "284,807 instâncias sem fraude\n",
    "492 instâncias com fraude\n",
    "\n",
    "30 atributos\n",
    "\n",
    "2 classes (com frause, sem fraude)\n",
    "\n",
    "--------------------------------------------------------------------------------\n",
    "Trabalho de Conclusão de Curso apresentado ao Curso de Especialização em Inteligência Artificial e Aprendizado de Máquina como requisito parcial à obtenção do título de especialista.\n",
    "Eloyza Maria S. B. Generozo\n"
   ]
  },
  {
   "cell_type": "code",
   "execution_count": 2,
   "metadata": {
    "colab": {},
    "colab_type": "code",
    "id": "OwXOcJUaTV-I"
   },
   "outputs": [
    {
     "name": "stdout",
     "output_type": "stream",
     "text": [
      "Requirement already satisfied: pydotplus in c:\\users\\eloyz\\anaconda3\\lib\\site-packages (2.0.2)\n",
      "Requirement already satisfied: pyparsing>=2.0.1 in c:\\users\\eloyz\\anaconda3\\lib\\site-packages (from pydotplus) (2.4.7)\n",
      "Requirement already satisfied: dtreeviz in c:\\users\\eloyz\\anaconda3\\lib\\site-packages (1.0)\n",
      "Requirement already satisfied: pandas in c:\\users\\eloyz\\anaconda3\\lib\\site-packages (from dtreeviz) (1.0.5)\n",
      "Requirement already satisfied: numpy in c:\\users\\eloyz\\anaconda3\\lib\\site-packages (from dtreeviz) (1.18.5)\n",
      "Requirement already satisfied: matplotlib in c:\\users\\eloyz\\anaconda3\\lib\\site-packages (from dtreeviz) (3.2.2)\n",
      "Requirement already satisfied: pytest in c:\\users\\eloyz\\anaconda3\\lib\\site-packages (from dtreeviz) (5.4.3)\n",
      "Requirement already satisfied: colour in c:\\users\\eloyz\\anaconda3\\lib\\site-packages (from dtreeviz) (0.1.5)\n",
      "Requirement already satisfied: graphviz>=0.9 in c:\\users\\eloyz\\anaconda3\\lib\\site-packages (from dtreeviz) (0.14.1)\n",
      "Requirement already satisfied: scikit-learn in c:\\users\\eloyz\\anaconda3\\lib\\site-packages (from dtreeviz) (0.23.1)\n",
      "Requirement already satisfied: xgboost in c:\\users\\eloyz\\anaconda3\\lib\\site-packages (from dtreeviz) (1.1.1)\n",
      "Requirement already satisfied: pytz>=2017.2 in c:\\users\\eloyz\\anaconda3\\lib\\site-packages (from pandas->dtreeviz) (2020.1)\n",
      "Requirement already satisfied: python-dateutil>=2.6.1 in c:\\users\\eloyz\\anaconda3\\lib\\site-packages (from pandas->dtreeviz) (2.8.1)\n",
      "Requirement already satisfied: kiwisolver>=1.0.1 in c:\\users\\eloyz\\anaconda3\\lib\\site-packages (from matplotlib->dtreeviz) (1.2.0)\n",
      "Requirement already satisfied: cycler>=0.10 in c:\\users\\eloyz\\anaconda3\\lib\\site-packages (from matplotlib->dtreeviz) (0.10.0)\n",
      "Requirement already satisfied: pyparsing!=2.0.4,!=2.1.2,!=2.1.6,>=2.0.1 in c:\\users\\eloyz\\anaconda3\\lib\\site-packages (from matplotlib->dtreeviz) (2.4.7)\n",
      "Requirement already satisfied: py>=1.5.0 in c:\\users\\eloyz\\anaconda3\\lib\\site-packages (from pytest->dtreeviz) (1.9.0)\n",
      "Requirement already satisfied: packaging in c:\\users\\eloyz\\anaconda3\\lib\\site-packages (from pytest->dtreeviz) (20.4)\n",
      "Requirement already satisfied: attrs>=17.4.0 in c:\\users\\eloyz\\anaconda3\\lib\\site-packages (from pytest->dtreeviz) (19.3.0)\n",
      "Requirement already satisfied: more-itertools>=4.0.0 in c:\\users\\eloyz\\anaconda3\\lib\\site-packages (from pytest->dtreeviz) (8.4.0)\n",
      "Requirement already satisfied: pluggy<1.0,>=0.12 in c:\\users\\eloyz\\anaconda3\\lib\\site-packages (from pytest->dtreeviz) (0.13.1)\n",
      "Requirement already satisfied: wcwidth in c:\\users\\eloyz\\anaconda3\\lib\\site-packages (from pytest->dtreeviz) (0.2.5)\n",
      "Requirement already satisfied: atomicwrites>=1.0 in c:\\users\\eloyz\\anaconda3\\lib\\site-packages (from pytest->dtreeviz) (1.4.0)\n",
      "Requirement already satisfied: colorama in c:\\users\\eloyz\\anaconda3\\lib\\site-packages (from pytest->dtreeviz) (0.4.3)\n",
      "Requirement already satisfied: joblib>=0.11 in c:\\users\\eloyz\\anaconda3\\lib\\site-packages (from scikit-learn->dtreeviz) (0.16.0)\n",
      "Requirement already satisfied: scipy>=0.19.1 in c:\\users\\eloyz\\anaconda3\\lib\\site-packages (from scikit-learn->dtreeviz) (1.5.0)\n",
      "Requirement already satisfied: threadpoolctl>=2.0.0 in c:\\users\\eloyz\\anaconda3\\lib\\site-packages (from scikit-learn->dtreeviz) (2.1.0)\n",
      "Requirement already satisfied: six>=1.5 in c:\\users\\eloyz\\anaconda3\\lib\\site-packages (from python-dateutil>=2.6.1->pandas->dtreeviz) (1.15.0)\n",
      "Requirement already satisfied: imblearn in c:\\users\\eloyz\\anaconda3\\lib\\site-packages (0.0)\n",
      "Requirement already satisfied: imbalanced-learn in c:\\users\\eloyz\\anaconda3\\lib\\site-packages (from imblearn) (0.7.0)\n",
      "Requirement already satisfied: scikit-learn>=0.23 in c:\\users\\eloyz\\anaconda3\\lib\\site-packages (from imbalanced-learn->imblearn) (0.23.1)\n",
      "Requirement already satisfied: joblib>=0.11 in c:\\users\\eloyz\\anaconda3\\lib\\site-packages (from imbalanced-learn->imblearn) (0.16.0)\n",
      "Requirement already satisfied: numpy>=1.13.3 in c:\\users\\eloyz\\anaconda3\\lib\\site-packages (from imbalanced-learn->imblearn) (1.18.5)\n",
      "Requirement already satisfied: scipy>=0.19.1 in c:\\users\\eloyz\\anaconda3\\lib\\site-packages (from imbalanced-learn->imblearn) (1.5.0)\n",
      "Requirement already satisfied: threadpoolctl>=2.0.0 in c:\\users\\eloyz\\anaconda3\\lib\\site-packages (from scikit-learn>=0.23->imbalanced-learn->imblearn) (2.1.0)\n",
      "Requirement already satisfied: imbalanced-learn in c:\\users\\eloyz\\anaconda3\\lib\\site-packages (0.7.0)\n",
      "Requirement already satisfied: joblib>=0.11 in c:\\users\\eloyz\\anaconda3\\lib\\site-packages (from imbalanced-learn) (0.16.0)\n",
      "Requirement already satisfied: scipy>=0.19.1 in c:\\users\\eloyz\\anaconda3\\lib\\site-packages (from imbalanced-learn) (1.5.0)\n",
      "Requirement already satisfied: scikit-learn>=0.23 in c:\\users\\eloyz\\anaconda3\\lib\\site-packages (from imbalanced-learn) (0.23.1)\n",
      "Requirement already satisfied: numpy>=1.13.3 in c:\\users\\eloyz\\anaconda3\\lib\\site-packages (from imbalanced-learn) (1.18.5)\n",
      "Requirement already satisfied: threadpoolctl>=2.0.0 in c:\\users\\eloyz\\anaconda3\\lib\\site-packages (from scikit-learn>=0.23->imbalanced-learn) (2.1.0)\n"
     ]
    }
   ],
   "source": [
    "!pip install pydotplus\n",
    "!pip install dtreeviz\n",
    "!pip install imblearn\n",
    "!pip install imbalanced-learn"
   ]
  },
  {
   "cell_type": "code",
   "execution_count": 1,
   "metadata": {
    "colab": {},
    "colab_type": "code",
    "id": "PDVQg6ZJ_WXn"
   },
   "outputs": [],
   "source": [
    "import pandas as pd\n",
    "import numpy as np\n",
    "import pydotplus \n",
    "import matplotlib.pyplot as plt\n",
    "import numpy as np\n",
    "\n",
    "from sklearn import metrics\n",
    "from sklearn.model_selection import train_test_split\n",
    "from sklearn.tree import DecisionTreeClassifier\n",
    "from sklearn.naive_bayes import GaussianNB\n",
    "from sklearn.metrics import accuracy_score, classification_report, confusion_matrix\n",
    "from sklearn.decomposition import PCA\n",
    "from sklearn.preprocessing import LabelEncoder\n",
    "from sklearn.ensemble import RandomForestClassifier\n",
    "from sklearn.ensemble import IsolationForest\n",
    "from sklearn.neural_network import MLPClassifier\n",
    "from sklearn import preprocessing\n",
    "from sklearn.model_selection import StratifiedKFold\n",
    "\n",
    "\n",
    "from imblearn.combine import SMOTETomek\n",
    "from imblearn.over_sampling import SMOTE\n"
   ]
  },
  {
   "cell_type": "code",
   "execution_count": 3,
   "metadata": {
    "scrolled": true
   },
   "outputs": [
    {
     "name": "stdout",
     "output_type": "stream",
     "text": [
      "       Time        V2        V3        V4        V6        V7        V8  \\\n",
      "0  0.000000 -0.072781  2.536347  1.378155  0.462388  0.239599  0.098698   \n",
      "1  0.000000  0.266151  0.166480  0.448154 -0.082361 -0.078803  0.085102   \n",
      "2  0.000006 -1.340163  1.773209  0.379780  1.800499  0.791461  0.247676   \n",
      "3  0.000006 -0.185226  1.792993 -0.863291  1.247203  0.237609  0.377436   \n",
      "4  0.000012  0.877737  1.548718  0.403034  0.095921  0.592941 -0.270533   \n",
      "\n",
      "         V9       V10       V11  ...       V15       V16       V17       V18  \\\n",
      "0  0.363787  0.090794 -0.551600  ...  1.468177 -0.470401  0.207971  0.025791   \n",
      "1 -0.255425 -0.166974  1.612727  ...  0.635558  0.463917 -0.114805 -0.183361   \n",
      "2 -1.514654  0.207643  0.624501  ...  2.345865 -2.890083  1.109969 -0.121359   \n",
      "3 -1.387024 -0.054952 -0.226487  ... -0.631418 -1.059647 -0.684093  1.965775   \n",
      "4  0.817739  0.753074 -0.822843  ...  0.175121 -0.451449 -0.237033 -0.038195   \n",
      "\n",
      "        V19       V20       V25       V26       V27  Class  \n",
      "0  0.403993  0.251412  0.128539 -0.189115  0.133558      0  \n",
      "1 -0.145783 -0.069083  0.167170  0.125895 -0.008983      0  \n",
      "2 -2.261857  0.524980 -0.327642 -0.139097 -0.055353      0  \n",
      "3 -1.232622 -0.208038  0.647376 -0.221929  0.062723      0  \n",
      "4  0.803487  0.408542 -0.206010  0.502292  0.219422      0  \n",
      "\n",
      "[5 rows x 23 columns]\n"
     ]
    }
   ],
   "source": [
    "creditcard = pd.read_csv('creditcard.csv') \n",
    "\n",
    "###### Normalizando campo Time ##############\n",
    "creditcard['Time'] = preprocessing.MinMaxScaler().fit_transform(creditcard['Time'].values.reshape(-1, 1))\n",
    "\n",
    "###### Removendo campos com baixa importancia e correlacao ##############\n",
    "creditcard = creditcard.drop(['V1', 'V5', 'V21', 'V22', 'V23', 'V24', 'V28', 'Amount'], 1)\n",
    "print(creditcard.head())\n",
    "\n",
    "###### Removendo Outliers da Classe 0 ##############\n",
    "iso_forest = IsolationForest(contamination=0.01, random_state=1)\n",
    "\n",
    "# Separando por classe\n",
    "target_0 = creditcard[creditcard.Class == 0]\n",
    "target_1 = creditcard[creditcard.Class == 1]\n",
    "\n",
    "# Prevendo outliers\n",
    "iso_forest = iso_forest.fit(target_0)\n",
    "sof_outliers = iso_forest.predict(target_0)\n",
    "\n",
    "# Mantendo registros diferentes de outliers\n",
    "target_0 = target_0[sof_outliers != -1]\n",
    "\n",
    "# Concatenando novamente classe 0 filtrada com classe 1\n",
    "creditcard = pd.concat([target_0, target_1], axis=0)\n"
   ]
  },
  {
   "cell_type": "code",
   "execution_count": 4,
   "metadata": {},
   "outputs": [],
   "source": [
    "###### Balanceado a base com SMOTE + TOMEK ##############\n",
    "# Definindo PCA model para melhor perfomance tridimensional\n",
    "\n",
    "pca = PCA(n_components=3)\n",
    "\n",
    "def apply_smtetomek(X, y):\n",
    "    \n",
    "    X_3d = pca.fit_transform(X)\n",
    "        \n",
    "    # Definindo SMOTE para classe minoritária usando 5 vizinhos mais proximos\n",
    "    sm = SMOTE(sampling_strategy='minority', k_neighbors=5) \n",
    "    # Passando smote definido no SMOTE + Tomek para retirar registros da classe majoritaria e aumentar da minoritaria\n",
    "    smto = SMOTETomek(sampling_strategy='auto', smote=sm, random_state=1)\n",
    "    X_smto, y_smto = smto.fit_sample(X_3d, y)\n",
    "\n",
    "    return(X_smto, y_smto)\n",
    "\n",
    "\n",
    "def obtemTreinoETesteBalanceado():\n",
    "    ###### Separando variaveis classe dos demais ##############\n",
    "    X = creditcard.iloc[:,0:(creditcard.shape[1] - 1)]\n",
    "    le = LabelEncoder()\n",
    "    y = le.fit_transform(creditcard.iloc[:,(creditcard.shape[1] - 1)]) \n",
    "\n",
    "\n",
    "    print(\"\\nQuantidade de fraudes na base: {}\".format(np.count_nonzero(y == 1)))\n",
    "    print(\"Quantidade de normais na base: {}\".format(np.count_nonzero(y == 0)))\n",
    "\n",
    "    # Separando base de treino e teste\n",
    "    X_train, X_test, y_train, y_test = train_test_split(\n",
    "       X, \n",
    "       y, \n",
    "       test_size=0.3, \n",
    "       random_state=1)\n",
    "\n",
    "\n",
    "    print(\"\\nPercentual de fraudes base de teste: {}\".format(np.count_nonzero(y_test == 1) / np.count_nonzero(y_test == 0)))\n",
    "    print(\"Percentual de fraudes base de treino: {}\".format(np.count_nonzero(y_train == 1) / np.count_nonzero(y_train == 0)))\n",
    "\n",
    "\n",
    "    (X_train, y_train) = apply_smtetomek(X_train, y_train)\n",
    "    (X_test, y_test) = apply_smtetomek(X_test, y_test)\n",
    "\n",
    "    print(\"\\nPercentual de fraudes sobre a base de teste: {}\".format(np.count_nonzero(y_test == 1) / np.count_nonzero(y_test == 0)))\n",
    "    print(\"Percentual de fraudes sobre a base de treino: {}\".format(np.count_nonzero(y_train == 1) / np.count_nonzero(y_train == 0)))\n",
    "    \n",
    "    return(X_train, y_train, X_test, y_test)\n",
    "\n"
   ]
  },
  {
   "cell_type": "code",
   "execution_count": 5,
   "metadata": {},
   "outputs": [],
   "source": [
    "def obtemMetricasCompleto(y_test, y_pred, nome_modelo):\n",
    "    # Obtendo metricas\n",
    "    print(\"\\nAcurácia de previsão - \"+ nome_modelo +\":\", accuracy_score(y_test, y_pred))\n",
    "    print(classification_report(y_test, y_pred, target_names=[\"Normal\", \"Fraude\"]))\n",
    "\n",
    "    # Matriz de Consufão\n",
    "    cnf_matrix = confusion_matrix(y_test, y_pred)\n",
    "    cnf_table = pd.DataFrame(data=cnf_matrix, index=[\"Normal\", \"Fraude\"], columns=[\"Normal (prev)\", \"Fraude (prev)\"])\n",
    "    print(cnf_table)\n",
    "    plt.matshow(cnf_matrix)\n",
    "    plt.colorbar()\n",
    "    plt.ylabel('Real Class')\n",
    "    plt.xlabel('Predicted Class')\n",
    "    plt.show()  \n",
    "    \n",
    "    # Curva AOC\n",
    "    fpr, tpr, thresholds = metrics.roc_curve(y_test, y_pred)\n",
    "    auc = metrics.auc(fpr, tpr)\n",
    "    plt.plot(fpr, tpr, color='blue',label='ROC (AUC = %0.4f)' % auc)\n",
    "    plt.legend(loc='lower right')\n",
    "    plt.title(\"ROC Curve \" + nome_modelo)\n",
    "    plt.xlabel(\"FPR\")\n",
    "    plt.ylabel(\"TPR\")\n",
    "    plt.show()\n",
    "    \n",
    "def obtemMetricasResumido(y_test, y_pred, nome_modelo):\n",
    "    # Obtendo metricas\n",
    "    print(\"\\nAcurácia de previsão - \"+ nome_modelo +\":\", accuracy_score(y_test, y_pred))\n",
    "    print(classification_report(y_test, y_pred, target_names=[\"Normal\", \"Fraude\"]))\n",
    "\n",
    "    # Matriz de Consufão\n",
    "    cnf_matrix = confusion_matrix(y_test, y_pred)\n",
    "    cnf_table = pd.DataFrame(data=cnf_matrix, index=[\"Normal\", \"Fraude\"], columns=[\"Normal (prev)\", \"Fraude (prev)\"])\n",
    "    print(cnf_table)\n",
    "    "
   ]
  },
  {
   "cell_type": "markdown",
   "metadata": {},
   "source": [
    "### Decision Tree Classifier\n",
    "\n",
    "\n",
    "Uma árvore de decisão é uma representação simples para classificar exemplos. É um aprendizado de máquina supervisionado onde os dados são continuamente di-vididos de acordo com um determinado parâmetro.A Árvore de Decisão consiste em Nodes, que testam o valor de um determinado atributo; Edges/Branch, que cor-respondem ao resultado de um teste e se conectam ao próximo nó ou folha; E os Leaf Nodes, nós terminais que prevêem o resultado (representam rótulos de classe ou distribuição de classe)."
   ]
  },
  {
   "cell_type": "code",
   "execution_count": 6,
   "metadata": {},
   "outputs": [
    {
     "name": "stdout",
     "output_type": "stream",
     "text": [
      "\n",
      "Quantidade de fraudes na base: 492\n",
      "Quantidade de normais na base: 281471\n",
      "\n",
      "Percentual de fraudes base de teste: 0.0017527030707831504\n",
      "Percentual de fraudes base de treino: 0.0017459270161904279\n",
      "\n",
      "Percentual de fraudes sobre a base de teste: 1.0\n",
      "Percentual de fraudes sobre a base de treino: 1.0\n",
      "\n",
      "Acurácia de previsão - Decision Tree: 0.8789757987135293\n",
      "              precision    recall  f1-score   support\n",
      "\n",
      "      Normal       0.82      0.98      0.89     84417\n",
      "      Fraude       0.97      0.78      0.87     84417\n",
      "\n",
      "    accuracy                           0.88    168834\n",
      "   macro avg       0.89      0.88      0.88    168834\n",
      "weighted avg       0.89      0.88      0.88    168834\n",
      "\n",
      "        Normal (prev)  Fraude (prev)\n",
      "Normal          82546           1871\n",
      "Fraude          18562          65855\n"
     ]
    },
    {
     "data": {
      "image/png": "[encoded data removed]",
      "text/plain": [
       "<Figure size 288x288 with 2 Axes>"
      ]
     },
     "metadata": {
      "needs_background": "light"
     },
     "output_type": "display_data"
    },
    {
     "data": {
      "image/png": "[encoded data removed]",
      "text/plain": [
       "<Figure size 432x288 with 1 Axes>"
      ]
     },
     "metadata": {
      "needs_background": "light"
     },
     "output_type": "display_data"
    }
   ],
   "source": [
    "###### Executando DecisionTreeClassifier e avaliando resultado ##############\n",
    "\n",
    "(X_train, y_train, X_test, y_test) = obtemTreinoETesteBalanceado()\n",
    "model = DecisionTreeClassifier(min_samples_leaf=10, min_samples_split=10, random_state=1)\n",
    "\n",
    "model.fit(X_train, y_train)\n",
    "y_pred = model.predict(X_test)\n",
    "obtemMetricasCompleto(y_test, y_pred, 'Decision Tree')"
   ]
  },
  {
   "cell_type": "code",
   "execution_count": 7,
   "metadata": {},
   "outputs": [
    {
     "name": "stdout",
     "output_type": "stream",
     "text": [
      "\n",
      "Quantidade de fraudes na base de treino: 0.0017497424237041248\n",
      "Quantidade de fraudes na base de teste: 0.001740829558575362\n",
      "\n",
      "\n",
      "Acurácia de previsão - Decision Tree: 0.7831982654439468\n",
      "              precision    recall  f1-score   support\n",
      "\n",
      "      Normal       0.71      0.96      0.82     56268\n",
      "      Fraude       0.94      0.60      0.74     56268\n",
      "\n",
      "    accuracy                           0.78    112536\n",
      "   macro avg       0.82      0.78      0.78    112536\n",
      "weighted avg       0.82      0.78      0.78    112536\n",
      "\n",
      "        Normal (prev)  Fraude (prev)\n",
      "Normal          54135           2133\n",
      "Fraude          22265          34003\n",
      "\n",
      "Quantidade de fraudes na base de treino: 0.0017452937022875339\n",
      "Quantidade de fraudes na base de teste: 0.0017586243649412015\n",
      "\n",
      "\n",
      "Acurácia de previsão - Decision Tree: 0.8640813788201848\n",
      "              precision    recall  f1-score   support\n",
      "\n",
      "      Normal       0.80      0.97      0.88     56280\n",
      "      Fraude       0.97      0.75      0.85     56280\n",
      "\n",
      "    accuracy                           0.86    112560\n",
      "   macro avg       0.88      0.86      0.86    112560\n",
      "weighted avg       0.88      0.86      0.86    112560\n",
      "\n",
      "        Normal (prev)  Fraude (prev)\n",
      "Normal          54791           1489\n",
      "Fraude          13810          42470\n",
      "\n",
      "Quantidade de fraudes na base de treino: 0.0017452937022875339\n",
      "Quantidade de fraudes na base de teste: 0.0017586243649412015\n",
      "\n",
      "\n",
      "Acurácia de previsão - Decision Tree: 0.798654915687912\n",
      "              precision    recall  f1-score   support\n",
      "\n",
      "      Normal       0.72      0.97      0.83     56279\n",
      "      Fraude       0.96      0.62      0.76     56279\n",
      "\n",
      "    accuracy                           0.80    112558\n",
      "   macro avg       0.84      0.80      0.79    112558\n",
      "weighted avg       0.84      0.80      0.79    112558\n",
      "\n",
      "        Normal (prev)  Fraude (prev)\n",
      "Normal          54853           1426\n",
      "Fraude          21237          35042\n",
      "\n",
      "Quantidade de fraudes na base de treino: 0.0017497346531839398\n",
      "Quantidade de fraudes na base de teste: 0.001740860482467048\n",
      "\n",
      "\n",
      "Acurácia de previsão - Decision Tree: 0.884032986172822\n",
      "              precision    recall  f1-score   support\n",
      "\n",
      "      Normal       0.82      0.98      0.89     56266\n",
      "      Fraude       0.97      0.79      0.87     56266\n",
      "\n",
      "    accuracy                           0.88    112532\n",
      "   macro avg       0.90      0.88      0.88    112532\n",
      "weighted avg       0.90      0.88      0.88    112532\n",
      "\n",
      "        Normal (prev)  Fraude (prev)\n",
      "Normal          54874           1392\n",
      "Fraude          11658          44608\n",
      "\n",
      "Quantidade de fraudes na base de treino: 0.0017497346531839398\n",
      "Quantidade de fraudes na base de teste: 0.001740860482467048\n",
      "\n",
      "\n",
      "Acurácia de previsão - Decision Tree: 0.8627032791255665\n",
      "              precision    recall  f1-score   support\n",
      "\n",
      "      Normal       0.80      0.97      0.88     56265\n",
      "      Fraude       0.97      0.75      0.85     56265\n",
      "\n",
      "    accuracy                           0.86    112530\n",
      "   macro avg       0.88      0.86      0.86    112530\n",
      "weighted avg       0.88      0.86      0.86    112530\n",
      "\n",
      "        Normal (prev)  Fraude (prev)\n",
      "Normal          54799           1466\n",
      "Fraude          13984          42281\n"
     ]
    }
   ],
   "source": [
    "###### Executando DecisionTreeClassifier com Cross Validation e avaliando resultado ##############\n",
    "\n",
    "\n",
    "###### Separando variaveis classe dos demais ##############\n",
    "X = creditcard.iloc[:,0:(creditcard.shape[1] - 1)]\n",
    "y = creditcard.iloc[:,(creditcard.shape[1] - 1)] \n",
    "\n",
    "\n",
    "kfold = StratifiedKFold(shuffle=True, random_state=1, n_splits=5)\n",
    "for train_index, test_index in kfold.split(X, y):\n",
    "    \n",
    "\n",
    "    X_train, X_test = X.iloc[train_index], X.iloc[test_index]\n",
    "    y_train, y_test = y.iloc[train_index], y.iloc[test_index]\n",
    "    \n",
    "        \n",
    "    print(\"\\nQuantidade de fraudes na base de treino: {}\".format(np.count_nonzero(y_train == 1)/np.count_nonzero(y_train == 0)))\n",
    "    print(\"Quantidade de fraudes na base de teste: {}\\n\".format(np.count_nonzero(y_test == 1)/np.count_nonzero(y_test == 0)))\n",
    "\n",
    "    \n",
    "    (X_train, y_train) = apply_smtetomek(X_train, y_train)\n",
    "    (X_test, y_test) = apply_smtetomek(X_test, y_test)\n",
    "\n",
    "    model = DecisionTreeClassifier(min_samples_leaf=10, min_samples_split=10, random_state=1)\n",
    "    model.fit(X_train, y_train)\n",
    "    y_pred = model.predict(X_test)\n",
    "\n",
    "    obtemMetricasResumido(y_test, y_pred, 'Decision Tree')\n",
    "\n"
   ]
  },
  {
   "cell_type": "markdown",
   "metadata": {},
   "source": [
    "###  GaussianNB\n",
    "\n",
    "Naive Bayes é uma técnica de classificação estatística baseada no Teorema de Ba-yes. É um dos algoritmos de aprendizagem supervisionada mais simples. O classifi-cador Naive Bayes é o algoritmo rápido, preciso e confiável. Os classificadores Naive Bayes têm alta precisão e velocidade em grandes conjuntos de dados."
   ]
  },
  {
   "cell_type": "code",
   "execution_count": 21,
   "metadata": {},
   "outputs": [
    {
     "name": "stdout",
     "output_type": "stream",
     "text": [
      "\n",
      "Quantidade de fraudes na base: 492\n",
      "Quantidade de normais na base: 281471\n",
      "\n",
      "Percentual de fraudes base de teste: 0.0017527030707831504\n",
      "Percentual de fraudes base de treino: 0.0017459270161904279\n",
      "\n",
      "Percentual de fraudes sobre a base de teste: 1.0\n",
      "Percentual de fraudes sobre a base de treino: 1.0\n",
      "\n",
      "Acurácia de previsão - Naive Bayes: 0.88429052052977\n",
      "              precision    recall  f1-score   support\n",
      "\n",
      "      Normal       0.83      0.96      0.89     84414\n",
      "      Fraude       0.95      0.81      0.87     84414\n",
      "\n",
      "    accuracy                           0.88    168828\n",
      "   macro avg       0.89      0.88      0.88    168828\n",
      "weighted avg       0.89      0.88      0.88    168828\n",
      "\n",
      "        Normal (prev)  Fraude (prev)\n",
      "Normal          81105           3309\n",
      "Fraude          16226          68188\n"
     ]
    },
    {
     "data": {
      "image/png": "[encoded data removed]",
      "text/plain": [
       "<Figure size 288x288 with 2 Axes>"
      ]
     },
     "metadata": {
      "needs_background": "light"
     },
     "output_type": "display_data"
    },
    {
     "data": {
      "image/png": "[encoded data removed]",
      "text/plain": [
       "<Figure size 432x288 with 1 Axes>"
      ]
     },
     "metadata": {
      "needs_background": "light"
     },
     "output_type": "display_data"
    }
   ],
   "source": [
    "###### Executando Naive Bayes e avaliando resultado ##############\n",
    "(X_train, y_train, X_test, y_test) = obtemTreinoETesteBalanceado()\n",
    "\n",
    "model = GaussianNB()\n",
    "model.fit(X_train, y_train)\n",
    "y_pred = model.predict(X_test)\n",
    "\n",
    "obtemMetricasCompleto(y_test, y_pred, 'Naive Bayes')\n",
    "\n"
   ]
  },
  {
   "cell_type": "code",
   "execution_count": 8,
   "metadata": {},
   "outputs": [
    {
     "name": "stdout",
     "output_type": "stream",
     "text": [
      "\n",
      "Quantidade de fraudes na base de treino: 0.0017497424237041248\n",
      "Quantidade de fraudes na base de teste: 0.001740829558575362\n",
      "\n",
      "\n",
      "Acurácia de previsão - Naive Bayes: 0.8237677245104659\n",
      "              precision    recall  f1-score   support\n",
      "\n",
      "      Normal       0.75      0.97      0.85     56278\n",
      "      Fraude       0.96      0.68      0.79     56278\n",
      "\n",
      "    accuracy                           0.82    112556\n",
      "   macro avg       0.85      0.82      0.82    112556\n",
      "weighted avg       0.85      0.82      0.82    112556\n",
      "\n",
      "        Normal (prev)  Fraude (prev)\n",
      "Normal          54625           1653\n",
      "Fraude          18183          38095\n",
      "\n",
      "Quantidade de fraudes na base de treino: 0.0017452937022875339\n",
      "Quantidade de fraudes na base de teste: 0.0017586243649412015\n",
      "\n",
      "\n",
      "Acurácia de previsão - Naive Bayes: 0.8941836081887973\n",
      "              precision    recall  f1-score   support\n",
      "\n",
      "      Normal       0.85      0.96      0.90     56272\n",
      "      Fraude       0.95      0.83      0.89     56272\n",
      "\n",
      "    accuracy                           0.89    112544\n",
      "   macro avg       0.90      0.89      0.89    112544\n",
      "weighted avg       0.90      0.89      0.89    112544\n",
      "\n",
      "        Normal (prev)  Fraude (prev)\n",
      "Normal          54025           2247\n",
      "Fraude           9662          46610\n",
      "\n",
      "Quantidade de fraudes na base de treino: 0.0017452937022875339\n",
      "Quantidade de fraudes na base de teste: 0.0017586243649412015\n",
      "\n",
      "\n",
      "Acurácia de previsão - Naive Bayes: 0.844745491694057\n",
      "              precision    recall  f1-score   support\n",
      "\n",
      "      Normal       0.78      0.96      0.86     56285\n",
      "      Fraude       0.95      0.73      0.82     56285\n",
      "\n",
      "    accuracy                           0.84    112570\n",
      "   macro avg       0.86      0.84      0.84    112570\n",
      "weighted avg       0.86      0.84      0.84    112570\n",
      "\n",
      "        Normal (prev)  Fraude (prev)\n",
      "Normal          54119           2166\n",
      "Fraude          15311          40974\n",
      "\n",
      "Quantidade de fraudes na base de treino: 0.0017497346531839398\n",
      "Quantidade de fraudes na base de teste: 0.001740860482467048\n",
      "\n",
      "\n",
      "Acurácia de previsão - Naive Bayes: 0.9110177022607706\n",
      "              precision    recall  f1-score   support\n",
      "\n",
      "      Normal       0.88      0.96      0.92     56264\n",
      "      Fraude       0.95      0.86      0.91     56264\n",
      "\n",
      "    accuracy                           0.91    112528\n",
      "   macro avg       0.91      0.91      0.91    112528\n",
      "weighted avg       0.91      0.91      0.91    112528\n",
      "\n",
      "        Normal (prev)  Fraude (prev)\n",
      "Normal          53934           2330\n",
      "Fraude           7683          48581\n",
      "\n",
      "Quantidade de fraudes na base de treino: 0.0017497346531839398\n",
      "Quantidade de fraudes na base de teste: 0.001740860482467048\n",
      "\n",
      "\n",
      "Acurácia de previsão - Naive Bayes: 0.8508779724878257\n",
      "              precision    recall  f1-score   support\n",
      "\n",
      "      Normal       0.79      0.96      0.87     56266\n",
      "      Fraude       0.95      0.74      0.83     56266\n",
      "\n",
      "    accuracy                           0.85    112532\n",
      "   macro avg       0.87      0.85      0.85    112532\n",
      "weighted avg       0.87      0.85      0.85    112532\n",
      "\n",
      "        Normal (prev)  Fraude (prev)\n",
      "Normal          53895           2371\n",
      "Fraude          14410          41856\n"
     ]
    }
   ],
   "source": [
    "###### Executando Naive Bayes com Cross Validation e avaliando resultado ##############\n",
    "\n",
    "\n",
    "###### Separando variaveis classe dos demais ##############\n",
    "X = creditcard.iloc[:,0:(creditcard.shape[1] - 1)]\n",
    "y = creditcard.iloc[:,(creditcard.shape[1] - 1)] \n",
    "\n",
    "\n",
    "kfold = StratifiedKFold(shuffle=True, random_state=1, n_splits=5)\n",
    "for train_index, test_index in kfold.split(X, y):\n",
    "    \n",
    "\n",
    "    X_train, X_test = X.iloc[train_index], X.iloc[test_index]\n",
    "    y_train, y_test = y.iloc[train_index], y.iloc[test_index]\n",
    "    \n",
    "        \n",
    "    print(\"\\nQuantidade de fraudes na base de treino: {}\".format(np.count_nonzero(y_train == 1)/np.count_nonzero(y_train == 0)))\n",
    "    print(\"Quantidade de fraudes na base de teste: {}\\n\".format(np.count_nonzero(y_test == 1)/np.count_nonzero(y_test == 0)))\n",
    "\n",
    "    \n",
    "    (X_train, y_train) = apply_smtetomek(X_train, y_train)\n",
    "    (X_test, y_test) = apply_smtetomek(X_test, y_test)\n",
    "\n",
    "    model = GaussianNB()\n",
    "    model.fit(X_train, y_train)\n",
    "    y_pred = model.predict(X_test)\n",
    "\n",
    "    obtemMetricasResumido(y_test, y_pred, 'Naive Bayes')\n",
    "\n"
   ]
  },
  {
   "cell_type": "markdown",
   "metadata": {},
   "source": [
    "### Random Forest\n",
    "\n",
    "Algoritmo que cria um conjunto de árvores de decisão a partir de um subconjunto do conjunto de treinamento selecionado aleatoriamente. Em se-guida, agrega os votos de diferentes árvores de decisão para decidir a classe final do objeto de teste."
   ]
  },
  {
   "cell_type": "code",
   "execution_count": 24,
   "metadata": {},
   "outputs": [
    {
     "name": "stdout",
     "output_type": "stream",
     "text": [
      "\n",
      "Quantidade de fraudes na base: 492\n",
      "Quantidade de normais na base: 281471\n",
      "\n",
      "Percentual de fraudes base de teste: 0.0017527030707831504\n",
      "Percentual de fraudes base de treino: 0.0017459270161904279\n",
      "\n",
      "Percentual de fraudes sobre a base de teste: 1.0\n",
      "Percentual de fraudes sobre a base de treino: 1.0\n",
      "\n",
      "Acurácia de previsão - Random Forest Classifier: 0.8875884046296186\n",
      "              precision    recall  f1-score   support\n",
      "\n",
      "      Normal       0.82      0.99      0.90     84413\n",
      "      Fraude       0.99      0.78      0.87     84413\n",
      "\n",
      "    accuracy                           0.89    168826\n",
      "   macro avg       0.90      0.89      0.89    168826\n",
      "weighted avg       0.90      0.89      0.89    168826\n",
      "\n",
      "        Normal (prev)  Fraude (prev)\n",
      "Normal          83597            816\n",
      "Fraude          18162          66251\n"
     ]
    },
    {
     "data": {
      "image/png": "[encoded data removed]",
      "text/plain": [
       "<Figure size 288x288 with 2 Axes>"
      ]
     },
     "metadata": {
      "needs_background": "light"
     },
     "output_type": "display_data"
    },
    {
     "data": {
      "image/png": "[encoded data removed]",
      "text/plain": [
       "<Figure size 432x288 with 1 Axes>"
      ]
     },
     "metadata": {
      "needs_background": "light"
     },
     "output_type": "display_data"
    }
   ],
   "source": [
    "###### Executando RandomForestClassifier e avaliando resultado ##############\n",
    "(X_train, y_train, X_test, y_test) = obtemTreinoETesteBalanceado()\n",
    "\n",
    "\n",
    "model = RandomForestClassifier(n_estimators=100, n_jobs=4, random_state=1)\n",
    "model.fit(X_train, y_train)\n",
    "y_pred = model.predict(X_test)\n",
    "\n",
    "obtemMetricasCompleto(y_test, y_pred, 'Random Forest Classifier')\n",
    "\n"
   ]
  },
  {
   "cell_type": "code",
   "execution_count": 28,
   "metadata": {},
   "outputs": [
    {
     "name": "stdout",
     "output_type": "stream",
     "text": [
      "\n",
      "Quantidade de fraudes na base de treino: 0.0017497424237041248\n",
      "Quantidade de fraudes na base de teste: 0.001740829558575362\n",
      "\n",
      "\n",
      "Acurácia de previsão - Random Forest Classifier: 0.5182855315065572\n",
      "              precision    recall  f1-score   support\n",
      "\n",
      "      Normal       0.51      0.98      0.67     56274\n",
      "      Fraude       0.74      0.06      0.10     56274\n",
      "\n",
      "    accuracy                           0.52    112548\n",
      "   macro avg       0.63      0.52      0.39    112548\n",
      "weighted avg       0.63      0.52      0.39    112548\n",
      "\n",
      "        Normal (prev)  Fraude (prev)\n",
      "Normal          55185           1089\n",
      "Fraude          53127           3147\n",
      "\n",
      "Quantidade de fraudes na base de treino: 0.0017452937022875339\n",
      "Quantidade de fraudes na base de teste: 0.0017586243649412015\n",
      "\n",
      "\n",
      "Acurácia de previsão - Random Forest Classifier: 0.8769992180835939\n",
      "              precision    recall  f1-score   support\n",
      "\n",
      "      Normal       0.81      0.99      0.89     56272\n",
      "      Fraude       0.98      0.77      0.86     56272\n",
      "\n",
      "    accuracy                           0.88    112544\n",
      "   macro avg       0.90      0.88      0.88    112544\n",
      "weighted avg       0.90      0.88      0.88    112544\n",
      "\n",
      "        Normal (prev)  Fraude (prev)\n",
      "Normal          55565            707\n",
      "Fraude          13136          43136\n",
      "\n",
      "Quantidade de fraudes na base de treino: 0.0017452937022875339\n",
      "Quantidade de fraudes na base de teste: 0.0017586243649412015\n",
      "\n",
      "\n",
      "Acurácia de previsão - Random Forest Classifier: 0.7851165517731504\n",
      "              precision    recall  f1-score   support\n",
      "\n",
      "      Normal       0.70      0.99      0.82     56284\n",
      "      Fraude       0.98      0.58      0.73     56284\n",
      "\n",
      "    accuracy                           0.79    112568\n",
      "   macro avg       0.84      0.79      0.78    112568\n",
      "weighted avg       0.84      0.79      0.78    112568\n",
      "\n",
      "        Normal (prev)  Fraude (prev)\n",
      "Normal          55666            618\n",
      "Fraude          23571          32713\n",
      "\n",
      "Quantidade de fraudes na base de treino: 0.0017497346531839398\n",
      "Quantidade de fraudes na base de teste: 0.001740860482467048\n",
      "\n",
      "\n",
      "Acurácia de previsão - Random Forest Classifier: 0.9057546029714936\n",
      "              precision    recall  f1-score   support\n",
      "\n",
      "      Normal       0.85      0.99      0.91     56268\n",
      "      Fraude       0.99      0.82      0.90     56268\n",
      "\n",
      "    accuracy                           0.91    112536\n",
      "   macro avg       0.92      0.91      0.91    112536\n",
      "weighted avg       0.92      0.91      0.91    112536\n",
      "\n",
      "        Normal (prev)  Fraude (prev)\n",
      "Normal          55575            693\n",
      "Fraude           9913          46355\n",
      "\n",
      "Quantidade de fraudes na base de treino: 0.0017497346531839398\n",
      "Quantidade de fraudes na base de teste: 0.001740860482467048\n",
      "\n",
      "\n",
      "Acurácia de previsão - Random Forest Classifier: 0.874244686144878\n",
      "              precision    recall  f1-score   support\n",
      "\n",
      "      Normal       0.81      0.99      0.89     56268\n",
      "      Fraude       0.98      0.76      0.86     56268\n",
      "\n",
      "    accuracy                           0.87    112536\n",
      "   macro avg       0.89      0.87      0.87    112536\n",
      "weighted avg       0.89      0.87      0.87    112536\n",
      "\n",
      "        Normal (prev)  Fraude (prev)\n",
      "Normal          55524            744\n",
      "Fraude          13408          42860\n"
     ]
    }
   ],
   "source": [
    "###### Executando Random Forest com Cross Validation e avaliando resultado ##############\n",
    "\n",
    "\n",
    "###### Separando variaveis classe dos demais ##############\n",
    "X = creditcard.iloc[:,0:(creditcard.shape[1] - 1)]\n",
    "y = creditcard.iloc[:,(creditcard.shape[1] - 1)] \n",
    "\n",
    "\n",
    "kfold = StratifiedKFold(shuffle=True, random_state=1, n_splits=5)\n",
    "for train_index, test_index in kfold.split(X, y):\n",
    "    \n",
    "\n",
    "    X_train, X_test = X.iloc[train_index], X.iloc[test_index]\n",
    "    y_train, y_test = y.iloc[train_index], y.iloc[test_index]\n",
    "    \n",
    "        \n",
    "    print(\"\\nQuantidade de fraudes na base de treino: {}\".format(np.count_nonzero(y_train == 1)/np.count_nonzero(y_train == 0)))\n",
    "    print(\"Quantidade de fraudes na base de teste: {}\\n\".format(np.count_nonzero(y_test == 1)/np.count_nonzero(y_test == 0)))\n",
    "\n",
    "    \n",
    "    (X_train, y_train) = apply_smtetomek(X_train, y_train)\n",
    "    (X_test, y_test) = apply_smtetomek(X_test, y_test)\n",
    "\n",
    "    model = RandomForestClassifier(n_estimators=100, n_jobs=4, random_state=1)\n",
    "    model.fit(X_train, y_train)\n",
    "    y_pred = model.predict(X_test)\n",
    "\n",
    "    obtemMetricasResumido(y_test, y_pred, 'Random Forest Classifier')\n",
    "\n"
   ]
  },
  {
   "cell_type": "markdown",
   "metadata": {},
   "source": [
    "### Multilayer Perceptron (MLP)\n",
    "\n",
    "Rede neural com uma ou mais camadas ocultas com um número indeterminado de neurônios. A camada oculta possui esse nome porque não é possível prever a saída desejada nas camadas intermediárias. Para treinar a rede MLP, o algoritmo comu-mente utilizado é o de retropropagação (Backpropagation). Neste caso, como solver está sendo utilizado o adam, que conforme própria documentação do scikit-learn é indicado para bases grandes como é aqui o caso. O modelo terá duas camadas, com 32 neurônios na primeira e 16 na segunda. Já a função de ativação, será feito um comparativo entre a linear (identity) e sigmoidal (logistic e tanh), a função relu não será utilizada devido a característica da base com valores negativos."
   ]
  },
  {
   "cell_type": "code",
   "execution_count": 9,
   "metadata": {},
   "outputs": [
    {
     "name": "stdout",
     "output_type": "stream",
     "text": [
      "\n",
      "Quantidade de fraudes na base: 492\n",
      "Quantidade de normais na base: 281471\n",
      "\n",
      "Percentual de fraudes base de teste: 0.0017527030707831504\n",
      "Percentual de fraudes base de treino: 0.0017459270161904279\n",
      "\n",
      "Percentual de fraudes sobre a base de teste: 1.0\n",
      "Percentual de fraudes sobre a base de treino: 1.0\n",
      "\n",
      "Resultados para: identity\n",
      "Camadas da rede: 4\n",
      "Neurônios na camada oculta: [32, 16]\n",
      "Neurônios na camada de saída: 1\n",
      "Pesos na camada de entrada: (3, 32)\n",
      "Pesos na camada oculta: (32, 16)\n",
      "Acurácia da base de treinamento: 0.91\n",
      "Acurácia da base de teste: 0.94\n",
      "\n",
      "Acurácia de previsão - Multi-layer Perceptron classifier: 0.9355075640008056\n",
      "              precision    recall  f1-score   support\n",
      "\n",
      "      Normal       0.93      0.94      0.94     84413\n",
      "      Fraude       0.94      0.93      0.94     84413\n",
      "\n",
      "    accuracy                           0.94    168826\n",
      "   macro avg       0.94      0.94      0.94    168826\n",
      "weighted avg       0.94      0.94      0.94    168826\n",
      "\n",
      "        Normal (prev)  Fraude (prev)\n",
      "Normal          79451           4962\n",
      "Fraude           5926          78487\n"
     ]
    },
    {
     "data": {
      "image/png": "[encoded data removed]",
      "text/plain": [
       "<Figure size 288x288 with 2 Axes>"
      ]
     },
     "metadata": {
      "needs_background": "light"
     },
     "output_type": "display_data"
    },
    {
     "data": {
      "image/png": "[encoded data removed]",
      "text/plain": [
       "<Figure size 432x288 with 1 Axes>"
      ]
     },
     "metadata": {
      "needs_background": "light"
     },
     "output_type": "display_data"
    },
    {
     "name": "stderr",
     "output_type": "stream",
     "text": [
      "C:\\Users\\eloyz\\anaconda3\\lib\\site-packages\\sklearn\\neural_network\\_multilayer_perceptron.py:582: ConvergenceWarning: Stochastic Optimizer: Maximum iterations (50) reached and the optimization hasn't converged yet.\n",
      "  warnings.warn(\n"
     ]
    },
    {
     "name": "stdout",
     "output_type": "stream",
     "text": [
      "\n",
      "Resultados para: logistic\n",
      "Camadas da rede: 4\n",
      "Neurônios na camada oculta: [32, 16]\n",
      "Neurônios na camada de saída: 1\n",
      "Pesos na camada de entrada: (3, 32)\n",
      "Pesos na camada oculta: (32, 16)\n",
      "Acurácia da base de treinamento: 0.94\n",
      "Acurácia da base de teste: 0.92\n",
      "\n",
      "Acurácia de previsão - Multi-layer Perceptron classifier: 0.923897977799628\n",
      "              precision    recall  f1-score   support\n",
      "\n",
      "      Normal       0.90      0.96      0.93     84413\n",
      "      Fraude       0.96      0.89      0.92     84413\n",
      "\n",
      "    accuracy                           0.92    168826\n",
      "   macro avg       0.93      0.92      0.92    168826\n",
      "weighted avg       0.93      0.92      0.92    168826\n",
      "\n",
      "        Normal (prev)  Fraude (prev)\n",
      "Normal          80940           3473\n",
      "Fraude           9375          75038\n"
     ]
    },
    {
     "data": {
      "image/png": "[encoded data removed]",
      "text/plain": [
       "<Figure size 288x288 with 2 Axes>"
      ]
     },
     "metadata": {
      "needs_background": "light"
     },
     "output_type": "display_data"
    },
    {
     "data": {
      "image/png": "[encoded data removed]",
      "text/plain": [
       "<Figure size 432x288 with 1 Axes>"
      ]
     },
     "metadata": {
      "needs_background": "light"
     },
     "output_type": "display_data"
    },
    {
     "name": "stderr",
     "output_type": "stream",
     "text": [
      "C:\\Users\\eloyz\\anaconda3\\lib\\site-packages\\sklearn\\neural_network\\_multilayer_perceptron.py:582: ConvergenceWarning: Stochastic Optimizer: Maximum iterations (50) reached and the optimization hasn't converged yet.\n",
      "  warnings.warn(\n"
     ]
    },
    {
     "name": "stdout",
     "output_type": "stream",
     "text": [
      "\n",
      "Resultados para: tanh\n",
      "Camadas da rede: 4\n",
      "Neurônios na camada oculta: [32, 16]\n",
      "Neurônios na camada de saída: 1\n",
      "Pesos na camada de entrada: (3, 32)\n",
      "Pesos na camada oculta: (32, 16)\n",
      "Acurácia da base de treinamento: 0.96\n",
      "Acurácia da base de teste: 0.92\n",
      "\n",
      "Acurácia de previsão - Multi-layer Perceptron classifier: 0.9200063971189272\n",
      "              precision    recall  f1-score   support\n",
      "\n",
      "      Normal       0.88      0.97      0.92     84413\n",
      "      Fraude       0.97      0.87      0.92     84413\n",
      "\n",
      "    accuracy                           0.92    168826\n",
      "   macro avg       0.92      0.92      0.92    168826\n",
      "weighted avg       0.92      0.92      0.92    168826\n",
      "\n",
      "        Normal (prev)  Fraude (prev)\n",
      "Normal          81788           2625\n",
      "Fraude          10880          73533\n"
     ]
    },
    {
     "data": {
      "image/png": "[encoded data removed]",
      "text/plain": [
       "<Figure size 288x288 with 2 Axes>"
      ]
     },
     "metadata": {
      "needs_background": "light"
     },
     "output_type": "display_data"
    },
    {
     "data": {
      "image/png": "[encoded data removed]",
      "text/plain": [
       "<Figure size 432x288 with 1 Axes>"
      ]
     },
     "metadata": {
      "needs_background": "light"
     },
     "output_type": "display_data"
    }
   ],
   "source": [
    "###### Executando MLPClassifier e avaliando resultado ##############\n",
    "\n",
    "(X_train, y_train, X_test, y_test) = obtemTreinoETesteBalanceado()\n",
    "\n",
    "\n",
    "def runMLP(neuronios_1, neuronios_2, activation_mode):\n",
    "    mlp = MLPClassifier(activation=activation_mode, solver='adam', hidden_layer_sizes=[neuronios_1, neuronios_2], \n",
    "                        max_iter = 50, random_state=1)\n",
    "    mlp.fit(X_train, y_train)\n",
    "    y_pred = mlp.predict(X_test)\n",
    "\n",
    "    print(\"\\nResultados para: \" + activation_mode)\n",
    "    print(\"Camadas da rede: {}\".format(mlp.n_layers_))\n",
    "    print(\"Neurônios na camada oculta: {}\".format(mlp.hidden_layer_sizes))\n",
    "    print(\"Neurônios na camada de saída: {}\".format(mlp.n_outputs_))\n",
    "    print(\"Pesos na camada de entrada: {}\".format(mlp.coefs_[0].shape))\n",
    "    print(\"Pesos na camada oculta: {}\".format(mlp.coefs_[1].shape))\n",
    "\n",
    "    print(\"Acurácia da base de treinamento: {:.2f}\".format(mlp.score(X_train, y_train)))\n",
    "    print(\"Acurácia da base de teste: {:.2f}\".format(mlp.score(X_test, y_test)))\n",
    "\n",
    "    obtemMetricasCompleto(y_test, y_pred, 'Multi-layer Perceptron classifier')\n",
    "\n",
    "    \n",
    "runMLP(32, 16, 'identity')\n",
    "runMLP(32, 16, 'logistic')\n",
    "runMLP(32, 16, 'tanh')\n",
    "\n",
    "\n"
   ]
  },
  {
   "cell_type": "code",
   "execution_count": 32,
   "metadata": {},
   "outputs": [
    {
     "name": "stdout",
     "output_type": "stream",
     "text": [
      "\n",
      "Quantidade de fraudes na base de treino: 0.0017497424237041248\n",
      "Quantidade de fraudes na base de teste: 0.001740829558575362\n",
      "\n",
      "\n",
      "Acurácia de previsão - MLP Identity: 0.8265919067337255\n",
      "              precision    recall  f1-score   support\n",
      "\n",
      "      Normal       0.76      0.94      0.84     56269\n",
      "      Fraude       0.93      0.71      0.80     56269\n",
      "\n",
      "    accuracy                           0.83    112538\n",
      "   macro avg       0.85      0.83      0.82    112538\n",
      "weighted avg       0.85      0.83      0.82    112538\n",
      "\n",
      "        Normal (prev)  Fraude (prev)\n",
      "Normal          53115           3154\n",
      "Fraude          16361          39908\n",
      "\n",
      "Quantidade de fraudes na base de treino: 0.0017452937022875339\n",
      "Quantidade de fraudes na base de teste: 0.0017586243649412015\n",
      "\n",
      "\n",
      "Acurácia de previsão - MLP Identity: 0.9456714879704325\n",
      "              precision    recall  f1-score   support\n",
      "\n",
      "      Normal       0.94      0.95      0.95     56278\n",
      "      Fraude       0.95      0.94      0.95     56278\n",
      "\n",
      "    accuracy                           0.95    112556\n",
      "   macro avg       0.95      0.95      0.95    112556\n",
      "weighted avg       0.95      0.95      0.95    112556\n",
      "\n",
      "        Normal (prev)  Fraude (prev)\n",
      "Normal          53439           2839\n",
      "Fraude           3276          53002\n",
      "\n",
      "Quantidade de fraudes na base de treino: 0.0017452937022875339\n",
      "Quantidade de fraudes na base de teste: 0.0017586243649412015\n",
      "\n",
      "\n",
      "Acurácia de previsão - MLP Identity: 0.8923392685787397\n",
      "              precision    recall  f1-score   support\n",
      "\n",
      "      Normal       0.85      0.95      0.90     56274\n",
      "      Fraude       0.94      0.83      0.89     56274\n",
      "\n",
      "    accuracy                           0.89    112548\n",
      "   macro avg       0.90      0.89      0.89    112548\n",
      "weighted avg       0.90      0.89      0.89    112548\n",
      "\n",
      "        Normal (prev)  Fraude (prev)\n",
      "Normal          53464           2810\n",
      "Fraude           9307          46967\n",
      "\n",
      "Quantidade de fraudes na base de treino: 0.0017497346531839398\n",
      "Quantidade de fraudes na base de teste: 0.001740860482467048\n",
      "\n",
      "\n",
      "Acurácia de previsão - MLP Identity: 0.9244535276346189\n",
      "              precision    recall  f1-score   support\n",
      "\n",
      "      Normal       0.91      0.94      0.93     56270\n",
      "      Fraude       0.94      0.91      0.92     56270\n",
      "\n",
      "    accuracy                           0.92    112540\n",
      "   macro avg       0.92      0.92      0.92    112540\n",
      "weighted avg       0.92      0.92      0.92    112540\n",
      "\n",
      "        Normal (prev)  Fraude (prev)\n",
      "Normal          52766           3504\n",
      "Fraude           4998          51272\n",
      "\n",
      "Quantidade de fraudes na base de treino: 0.0017497346531839398\n",
      "Quantidade de fraudes na base de teste: 0.001740860482467048\n",
      "\n",
      "\n",
      "Acurácia de previsão - MLP Identity: 0.9009100280828979\n",
      "              precision    recall  f1-score   support\n",
      "\n",
      "      Normal       0.87      0.94      0.90     56262\n",
      "      Fraude       0.93      0.86      0.90     56262\n",
      "\n",
      "    accuracy                           0.90    112524\n",
      "   macro avg       0.90      0.90      0.90    112524\n",
      "weighted avg       0.90      0.90      0.90    112524\n",
      "\n",
      "        Normal (prev)  Fraude (prev)\n",
      "Normal          52753           3509\n",
      "Fraude           7641          48621\n"
     ]
    }
   ],
   "source": [
    "###### Executando MLP com Cross Validation e avaliando resultado ##############\n",
    "\n",
    "\n",
    "###### Separando variaveis classe dos demais ##############\n",
    "X = creditcard.iloc[:,0:(creditcard.shape[1] - 1)]\n",
    "y = creditcard.iloc[:,(creditcard.shape[1] - 1)] \n",
    "\n",
    "\n",
    "kfold = StratifiedKFold(shuffle=True, random_state=1, n_splits=5)\n",
    "for train_index, test_index in kfold.split(X, y):\n",
    "    \n",
    "\n",
    "    X_train, X_test = X.iloc[train_index], X.iloc[test_index]\n",
    "    y_train, y_test = y.iloc[train_index], y.iloc[test_index]\n",
    "    \n",
    "        \n",
    "    print(\"\\nQuantidade de fraudes na base de treino: {}\".format(np.count_nonzero(y_train == 1)/np.count_nonzero(y_train == 0)))\n",
    "    print(\"Quantidade de fraudes na base de teste: {}\\n\".format(np.count_nonzero(y_test == 1)/np.count_nonzero(y_test == 0)))\n",
    "\n",
    "    \n",
    "    (X_train, y_train) = apply_smtetomek(X_train, y_train)\n",
    "    (X_test, y_test) = apply_smtetomek(X_test, y_test)\n",
    "\n",
    "    model = MLPClassifier(activation='identity', solver='adam', hidden_layer_sizes=[32,16], \n",
    "                        max_iter = 50, random_state=1)\n",
    "    model.fit(X_train, y_train)\n",
    "    y_pred = model.predict(X_test)\n",
    "\n",
    "    obtemMetricasResumido(y_test, y_pred, 'MLP Identity')\n",
    "\n"
   ]
  }
 ],
 "metadata": {
  "colab": {
   "collapsed_sections": [],
   "name": "Arvore de decisao-sonar.ipynb",
   "provenance": [],
   "version": "0.3.2"
  },
  "kernelspec": {
   "display_name": "Python 3",
   "language": "python",
   "name": "python3"
  },
  "language_info": {
   "codemirror_mode": {
    "name": "ipython",
    "version": 3
   },
   "file_extension": ".py",
   "mimetype": "text/x-python",
   "name": "python",
   "nbconvert_exporter": "python",
   "pygments_lexer": "ipython3",
   "version": "3.8.3"
  }
 },
 "nbformat": 4,
 "nbformat_minor": 1
}
